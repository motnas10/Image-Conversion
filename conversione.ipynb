{
 "cells": [
  {
   "cell_type": "markdown",
   "metadata": {},
   "source": [
    "# HEIC to JPG"
   ]
  },
  {
   "cell_type": "code",
   "execution_count": 2,
   "metadata": {},
   "outputs": [
    {
     "name": "stdout",
     "output_type": "stream",
     "text": [
      "Tutte le immagini sono state convertite e salvate nella cartella: ./jpg_file\n"
     ]
    }
   ],
   "source": [
    "import os\n",
    "from PIL import Image\n",
    "import pillow_heif\n",
    "from tqdm import tqdm\n",
    "\n",
    "def convert_heic_to_jpg(input_folder, output_folder):\n",
    "    # Ensure the output folder exists\n",
    "    if not os.path.exists(output_folder):\n",
    "        os.makedirs(output_folder)\n",
    "\n",
    "    # Get all .heic files in the input folder\n",
    "    heic_files = [f for f in os.listdir(input_folder) if f.lower().endswith(\".heic\")]\n",
    "\n",
    "    # Loop through all HEIC files with a progress bar\n",
    "    for filename in tqdm(heic_files, desc=\"Converting images\"):\n",
    "        heic_path = os.path.join(input_folder, filename)\n",
    "        \n",
    "        # Load the HEIC file\n",
    "        heif_file = pillow_heif.open_heif(heic_path)\n",
    "        \n",
    "        # Convert to PIL image\n",
    "        image = Image.frombytes(\n",
    "            heif_file.mode,\n",
    "            heif_file.size,\n",
    "            heif_file.data,\n",
    "            \"raw\",\n",
    "            heif_file.mode,\n",
    "            heif_file.stride,\n",
    "        )\n",
    "        \n",
    "        # Save as JPG with maximum quality\n",
    "        jpg_filename = os.path.splitext(filename)[0] + \".jpg\"\n",
    "        jpg_path = os.path.join(output_folder, jpg_filename)\n",
    "        image.save(jpg_path, \"JPEG\", quality=95)  # quality 95 out of 100\n",
    "\n",
    "    print(f\"All images have been converted and saved to the folder: {output_folder}\")\n",
    "\n",
    "# Specify the input and output folders\n",
    "input_folder = \"./to_be_converted\"\n",
    "output_folder = \"./converted\"\n",
    "\n",
    "# Run the conversion\n",
    "convert_heic_to_jpg(input_folder, output_folder)\n"
   ]
  },
  {
   "cell_type": "markdown",
   "metadata": {},
   "source": [
    "# JPG to PNG"
   ]
  },
  {
   "cell_type": "code",
   "execution_count": 3,
   "metadata": {},
   "outputs": [
    {
     "name": "stderr",
     "output_type": "stream",
     "text": [
      "Converting images: 100%|██████████| 22/22 [00:09<00:00,  2.20it/s]\n"
     ]
    }
   ],
   "source": [
    "import os\n",
    "from PIL import Image\n",
    "from tqdm import tqdm\n",
    "\n",
    "def convert_jpg_to_png(input_folder, output_folder):\n",
    "    # Create the output folder if it doesn't exist\n",
    "    if not os.path.exists(output_folder):\n",
    "        os.makedirs(output_folder)\n",
    "\n",
    "    # List all files in the input folder\n",
    "    files = [f for f in os.listdir(input_folder) if f.lower().endswith(('.jpg', '.jpeg'))]\n",
    "\n",
    "    # Loop through all JPG files with a progress bar\n",
    "    for filename in tqdm(files, desc=\"Converting images\"):\n",
    "        # Open the JPG image\n",
    "        img = Image.open(os.path.join(input_folder, filename))\n",
    "        # Create the output file path\n",
    "        base_filename = os.path.splitext(filename)[0]\n",
    "        output_path = os.path.join(output_folder, f\"{base_filename}.png\")\n",
    "        # Save the image as PNG\n",
    "        img.save(output_path, 'PNG')\n",
    "\n",
    "# Example usage\n",
    "input_folder = \"./to_be_converted\"\n",
    "output_folder = \"./converted\"\n",
    "\n",
    "convert_jpg_to_png(input_folder, output_folder)\n"
   ]
  },
  {
   "cell_type": "markdown",
   "metadata": {},
   "source": [
    "# PNG to ICO"
   ]
  },
  {
   "cell_type": "code",
   "execution_count": 1,
   "metadata": {},
   "outputs": [
    {
     "name": "stdout",
     "output_type": "stream",
     "text": [
      "Converted: 1.png -> ./converted\\1.ico\n",
      "Converted: 2.png -> ./converted\\2.ico\n",
      "Converted: 3.png -> ./converted\\3.ico\n",
      "Converted: Unive.png -> ./converted\\Unive.ico\n"
     ]
    }
   ],
   "source": [
    "from PIL import Image\n",
    "import os\n",
    "\n",
    "def convert_png_to_ico(source_folder, target_folder, icon_size=(256, 256)):\n",
    "    if not os.path.exists(target_folder):\n",
    "        os.makedirs(target_folder)\n",
    "    \n",
    "    for file_name in os.listdir(source_folder):\n",
    "        if file_name.lower().endswith(\".png\"):\n",
    "            png_path = os.path.join(source_folder, file_name)\n",
    "            ico_path = os.path.join(target_folder, os.path.splitext(file_name)[0] + \".ico\")\n",
    "            \n",
    "            try:\n",
    "                img = Image.open(png_path)\n",
    "                img.save(ico_path, format='ICO', sizes=[icon_size])\n",
    "                print(f\"Converted: {file_name} -> {ico_path}\")\n",
    "            except Exception as e:\n",
    "                print(f\"Error converting {file_name}: {e}\")\n",
    "\n",
    "if __name__ == \"__main__\":\n",
    "    source_folder = \"./to_be_converted\"  # Change this to your source folder\n",
    "    target_folder = \"./converted\"  # Change this to your target folder\n",
    "    convert_png_to_ico(source_folder, target_folder)\n"
   ]
  }
 ],
 "metadata": {
  "kernelspec": {
   "display_name": "base",
   "language": "python",
   "name": "python3"
  },
  "language_info": {
   "codemirror_mode": {
    "name": "ipython",
    "version": 3
   },
   "file_extension": ".py",
   "mimetype": "text/x-python",
   "name": "python",
   "nbconvert_exporter": "python",
   "pygments_lexer": "ipython3",
   "version": "3.12.3"
  }
 },
 "nbformat": 4,
 "nbformat_minor": 2
}
